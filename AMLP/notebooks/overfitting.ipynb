{
 "cells": [
  {
   "cell_type": "code",
   "execution_count": 5,
   "metadata": {},
   "outputs": [
    {
     "ename": "NameError",
     "evalue": "name 'df_trains' is not defined",
     "output_type": "error",
     "traceback": [
      "\u001b[0;31m---------------------------------------------------------------------------\u001b[0m",
      "\u001b[0;31mNameError\u001b[0m                                 Traceback (most recent call last)",
      "Cell \u001b[0;32mIn[5], line 21\u001b[0m\n\u001b[1;32m     17\u001b[0m clf\u001b[39m=\u001b[39mtree\u001b[39m.\u001b[39mDecisionTreeClassifier(max_depth\u001b[39m=\u001b[39mdepth)\n\u001b[1;32m     18\u001b[0m cols \u001b[39m=\u001b[39m  [\u001b[39m'\u001b[39m\u001b[39mfixed acidity\u001b[39m\u001b[39m'\u001b[39m, \u001b[39m'\u001b[39m\u001b[39mvolatile acidity\u001b[39m\u001b[39m'\u001b[39m, \u001b[39m'\u001b[39m\u001b[39mcitric acid\u001b[39m\u001b[39m'\u001b[39m, \u001b[39m'\u001b[39m\u001b[39mresidual sugar\u001b[39m\u001b[39m'\u001b[39m,\n\u001b[1;32m     19\u001b[0m    \u001b[39m'\u001b[39m\u001b[39mchlorides\u001b[39m\u001b[39m'\u001b[39m, \u001b[39m'\u001b[39m\u001b[39mfree sulfur dioxide\u001b[39m\u001b[39m'\u001b[39m, \u001b[39m'\u001b[39m\u001b[39mtotal sulfur dioxide\u001b[39m\u001b[39m'\u001b[39m, \u001b[39m'\u001b[39m\u001b[39mdensity\u001b[39m\u001b[39m'\u001b[39m,\n\u001b[1;32m     20\u001b[0m    \u001b[39m'\u001b[39m\u001b[39mpH\u001b[39m\u001b[39m'\u001b[39m, \u001b[39m'\u001b[39m\u001b[39msulphates\u001b[39m\u001b[39m'\u001b[39m, \u001b[39m'\u001b[39m\u001b[39malcohol\u001b[39m\u001b[39m'\u001b[39m]\n\u001b[0;32m---> 21\u001b[0m clf\u001b[39m.\u001b[39mfit(df_trains[cols], df_train\u001b[39m.\u001b[39mquality)\n\u001b[1;32m     22\u001b[0m train_predictions\u001b[39m=\u001b[39mclf\u001b[39m.\u001b[39mpredict(df_train[cols])\n\u001b[1;32m     23\u001b[0m test_predictions\u001b[39m=\u001b[39mclf\u001b[39m.\u001b[39mpredict(df_test[cols])\n",
      "\u001b[0;31mNameError\u001b[0m: name 'df_trains' is not defined"
     ]
    }
   ],
   "source": [
    "from sklearn import tree\n",
    "from sklearn import metrics\n",
    "\n",
    "import matplotlib.pyplot as plt\n",
    "import matplotlib\n",
    "import seaborn as sns\n",
    "\n",
    "matplotlib.rc('xtick',labelsize=20)\n",
    "matplotlib.rc('ytick',labelsize=20)\n",
    "%matplotlib inline\n",
    "\n",
    "\n",
    "\n",
    "train_accuracies = [0.5]\n",
    "test_accuracies = [0.5]\n",
    "for depth in range(1,25):\n",
    "    clf=tree.DecisionTreeClassifier(max_depth=depth)\n",
    "    cols =  ['fixed acidity', 'volatile acidity', 'citric acid', 'residual sugar',\n",
    "       'chlorides', 'free sulfur dioxide', 'total sulfur dioxide', 'density',\n",
    "       'pH', 'sulphates', 'alcohol']\n",
    "    clf.fit(df_trains[cols], df_train.quality)\n",
    "    train_predictions=clf.predict(df_train[cols])\n",
    "    test_predictions=clf.predict(df_test[cols])\n",
    "    train_accuracy = metrics.accuracy_score(df_train.quality , train_predictions)\n",
    "    test_accuracy=metrics.accuracy_score(df_test.quality, test_predictions)\n",
    "    train_accuracies.append(train_accuracy)\n",
    "    test_accuracies.append(test_accuracy)\n",
    "plt.figure(figsize=(10,5))\n",
    "sns.set_style(\"whitegrid\")\n",
    "plt.plot(train_accuracies , label=\"train_accuracy\")\n",
    "plt.plot(test_accuracies , label=\"test_accuracy\")\n",
    "plt.legend(loc=\"upper left\",prop={'size':15})\n",
    "plt.ticks(range(0,26,5))\n",
    "plt.xlabel(\"max_depth\", prop={'size':15})\n",
    "plt.ticks(range(0,26,5))\n",
    "plt.xlabel(\"max_depth\",size=20)\n",
    "plt.ylabel(\"accuracy\", size=20)\n",
    "plt.show()"
   ]
  },
  {
   "cell_type": "code",
   "execution_count": null,
   "metadata": {},
   "outputs": [],
   "source": []
  }
 ],
 "metadata": {
  "kernelspec": {
   "display_name": "ml",
   "language": "python",
   "name": "python3"
  },
  "language_info": {
   "codemirror_mode": {
    "name": "ipython",
    "version": 3
   },
   "file_extension": ".py",
   "mimetype": "text/x-python",
   "name": "python",
   "nbconvert_exporter": "python",
   "pygments_lexer": "ipython3",
   "version": "3.9.10"
  },
  "orig_nbformat": 4
 },
 "nbformat": 4,
 "nbformat_minor": 2
}
