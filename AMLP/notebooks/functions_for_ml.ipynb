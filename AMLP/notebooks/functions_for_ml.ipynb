{
 "cells": [
  {
   "cell_type": "markdown",
   "metadata": {},
   "source": [
    "# ACCURACY SCORE"
   ]
  },
  {
   "cell_type": "code",
   "execution_count": 6,
   "metadata": {},
   "outputs": [],
   "source": [
    "# Funtion to calculate accuracy from actual y and predicted y values\n",
    "def accuracy(y_true,y_pred):\n",
    "    \"\"\"\n",
    "    Funtion to calculate accuracy\n",
    "    :param y_true : list of true valyes\n",
    "    :param y_pred : list of predicted values\n",
    "    :return: accuracy_score\n",
    "    \"\"\"\n",
    "    correct_counter = 0\n",
    "    for yt , yp in zip(y_true,y_pred):\n",
    "        if yt==yp:\n",
    "            correct_counter+=1\n",
    "    return correct_counter/len(y_true)"
   ]
  },
  {
   "cell_type": "code",
   "execution_count": 42,
   "metadata": {},
   "outputs": [],
   "source": [
    "l1 = [0,1,0,1,1,1,0,0,0,1,0,1,0,1,1,1,0,0,1]\n",
    "l2 = [1,0,1,1,1,0,0,0,1,1,0,1,1,1,0,0,0,1,1]"
   ]
  },
  {
   "cell_type": "code",
   "execution_count": 43,
   "metadata": {},
   "outputs": [
    {
     "data": {
      "text/plain": [
       "0.5263157894736842"
      ]
     },
     "execution_count": 43,
     "metadata": {},
     "output_type": "execute_result"
    }
   ],
   "source": [
    "accuracy(l1,l2)"
   ]
  },
  {
   "cell_type": "code",
   "execution_count": 44,
   "metadata": {},
   "outputs": [
    {
     "data": {
      "text/plain": [
       "0.5263157894736842"
      ]
     },
     "execution_count": 44,
     "metadata": {},
     "output_type": "execute_result"
    }
   ],
   "source": [
    "from sklearn import metrics\n",
    "metrics.accuracy_score(l1,l2)\n"
   ]
  },
  {
   "cell_type": "code",
   "execution_count": 45,
   "metadata": {},
   "outputs": [],
   "source": [
    "## IF A MODEL CORRECTLY PREDICTS POSITIVE CLASS IT IS A TRUE POSITIVE\n",
    "## AND IF A MODEL ACCURATELY PREDICTS A NEGATIVE CLASS THEN IT IS A TRUE NEGATIVE\n",
    "## SIMILARLY IF A MODEL FALSELY PREDICTS A NEGATIVE CLASS AS POSITIVE THEN IT IS A FALSE POSITIVE\n",
    "## SIMILARLY IF MODEL FALSELY PREDICTS A POSITIVE CLASS AS NEGATIVE THEN IT IS FLASE NEGATIVE  "
   ]
  },
  {
   "cell_type": "markdown",
   "metadata": {},
   "source": [
    "# TP , TN , FP , FN"
   ]
  },
  {
   "cell_type": "code",
   "execution_count": 46,
   "metadata": {},
   "outputs": [],
   "source": [
    "def true_positive(y_true , y_pred):\n",
    "    tp=0\n",
    "    for yt,yp in zip(y_true,y_pred):\n",
    "        if yt==1 and yp==1:\n",
    "            tp+=1\n",
    "    return tp\n",
    "\n",
    "def true_negative(y_true , y_pred):\n",
    "    tn=0\n",
    "    for yt,yp in zip(y_true,y_pred):\n",
    "        if yt==0 and yp==0:\n",
    "            tn+=1\n",
    "    return tn\n",
    "\n",
    "def false_negative(y_true,y_pred):\n",
    "    fn=0\n",
    "    for yt,yp in zip(y_true,y_pred):\n",
    "        if yt==1 and yp==0 :\n",
    "            fn+=1\n",
    "    return fn\n",
    "\n",
    "def false_positive(y_true,y_pred):\n",
    "    fp = 0\n",
    "    for yt,yp in zip(y_true,y_pred):\n",
    "        if yt==0 and yp==1:\n",
    "            fp+=1\n",
    "    return fp"
   ]
  },
  {
   "cell_type": "code",
   "execution_count": 47,
   "metadata": {},
   "outputs": [
    {
     "name": "stdout",
     "output_type": "stream",
     "text": [
      "6\n",
      "4\n",
      "4\n",
      "5\n"
     ]
    }
   ],
   "source": [
    "print(true_positive(l1,l2))\n",
    "print(true_negative(l1,l2))\n",
    "print(false_negative(l1,l2))\n",
    "print(false_positive(l1,l2))\n"
   ]
  },
  {
   "cell_type": "markdown",
   "metadata": {},
   "source": [
    "## ACCURACY USING CONFUSION MATRIX\n",
    "###  accuracy_score = (tp+tn)/(tp+tn+fp+fn)"
   ]
  },
  {
   "cell_type": "code",
   "execution_count": 48,
   "metadata": {},
   "outputs": [],
   "source": [
    "def accuracy_v2(y_true,y_pred):\n",
    "    tp = true_positive(y_true , y_pred)\n",
    "    tn = true_negative(y_true,y_pred)\n",
    "    fp = false_positive(y_true,y_pred)\n",
    "    fn = false_negative(y_true,y_pred)\n",
    "    accuracy_score = (tp+tn)/(tp+tn+fp+fn)\n",
    "    return accuracy_score"
   ]
  },
  {
   "cell_type": "code",
   "execution_count": 49,
   "metadata": {},
   "outputs": [
    {
     "name": "stdout",
     "output_type": "stream",
     "text": [
      "Accuracy from accuracy_v2 function:0.5263157894736842\n",
      "Accuracy from aklearn metrics:0.5263157894736842\n"
     ]
    }
   ],
   "source": [
    "print(f'Accuracy from accuracy_v2 function:{accuracy_v2(l1,l2)}')\n",
    "print(f'Accuracy from aklearn metrics:{metrics.accuracy_score(l1,l2)}')\n"
   ]
  },
  {
   "cell_type": "markdown",
   "metadata": {},
   "source": [
    "# PRECISION"
   ]
  },
  {
   "cell_type": "code",
   "execution_count": 50,
   "metadata": {},
   "outputs": [],
   "source": [
    "def precision(y_true,y_pred):\n",
    "    tp = true_positive(y_true,y_pred)\n",
    "    fp = false_positive(y_true,y_pred)\n",
    "    precision = tp/(tp+fp)\n",
    "    return precision"
   ]
  },
  {
   "cell_type": "code",
   "execution_count": 51,
   "metadata": {},
   "outputs": [
    {
     "data": {
      "text/plain": [
       "0.5454545454545454"
      ]
     },
     "execution_count": 51,
     "metadata": {},
     "output_type": "execute_result"
    }
   ],
   "source": [
    "precision(l1,l2)"
   ]
  },
  {
   "cell_type": "markdown",
   "metadata": {},
   "source": [
    "### Precision of 0.54 basically states that out models is correct 54% of the times when it is trying to identify positive samples."
   ]
  },
  {
   "cell_type": "markdown",
   "metadata": {},
   "source": [
    "# RECALL"
   ]
  },
  {
   "cell_type": "code",
   "execution_count": 37,
   "metadata": {},
   "outputs": [],
   "source": [
    "def recall(y_true,y_pred):\n",
    "    tp = true_positive(y_true,y_pred)\n",
    "    fn = false_negative(y_true,y_pred)\n",
    "    recall = tp/(tp+fn)\n",
    "    return recall"
   ]
  },
  {
   "cell_type": "code",
   "execution_count": 52,
   "metadata": {},
   "outputs": [
    {
     "data": {
      "text/plain": [
       "0.6"
      ]
     },
     "execution_count": 52,
     "metadata": {},
     "output_type": "execute_result"
    }
   ],
   "source": [
    "recall(l1,l2)"
   ]
  },
  {
   "cell_type": "markdown",
   "metadata": {},
   "source": [
    "### Recall of 0.6 basically means that out model identified 60% of the positive samples correctly."
   ]
  },
  {
   "cell_type": "code",
   "execution_count": 76,
   "metadata": {},
   "outputs": [],
   "source": [
    "# import random\n",
    "\n",
    "# list_two = [round(random.uniform(0, 0.9), 5) for _ in range(20)]\n",
    "# print(list_two)\n"
   ]
  },
  {
   "cell_type": "code",
   "execution_count": 75,
   "metadata": {},
   "outputs": [],
   "source": [
    "# thresholds = [round(random.uniform(0.1, 0.9), 2) for _ in range(20)]\n",
    "# print(thresholds)"
   ]
  },
  {
   "cell_type": "markdown",
   "metadata": {},
   "source": [
    "# PRECISION - RECALL CURVE"
   ]
  },
  {
   "cell_type": "code",
   "execution_count": 59,
   "metadata": {},
   "outputs": [
    {
     "name": "stdout",
     "output_type": "stream",
     "text": [
      "Precision: [0.6, 0.7692307692307693, 0.7692307692307693, 0.7333333333333333, 0.3333333333333333, 0.75, 0.6, 0.7692307692307693, 0.8181818181818182, 0.6, 0.8, 0.7692307692307693, 0.7692307692307693, 0.5, 0.5, 0.7692307692307693, 0.7333333333333333, 0.7692307692307693, 0.0, 0.0]\n",
      "Recall: [0.2727272727272727, 0.9090909090909091, 0.9090909090909091, 1.0, 0.09090909090909091, 0.5454545454545454, 0.2727272727272727, 0.9090909090909091, 0.8181818181818182, 0.2727272727272727, 0.7272727272727273, 0.9090909090909091, 0.9090909090909091, 0.18181818181818182, 0.18181818181818182, 0.9090909090909091, 1.0, 0.9090909090909091, 0.0, 0.0]\n"
     ]
    },
    {
     "name": "stderr",
     "output_type": "stream",
     "text": [
      "/Users/shubham/MachineLearning/AMLP/ml/lib/python3.9/site-packages/sklearn/metrics/_classification.py:1469: UndefinedMetricWarning: Precision is ill-defined and being set to 0.0 due to no predicted samples. Use `zero_division` parameter to control this behavior.\n",
      "  _warn_prf(average, modifier, msg_start, len(result))\n"
     ]
    }
   ],
   "source": [
    "from sklearn.metrics import precision_score, recall_score\n",
    "\n",
    "y_true = [1, 1, 0, 0, 0, 1, 0, 1, 0, 1, 0, 1, 0, 0, 1, 1, 1, 1, 1, 0]\n",
    "y_pred = [0.81337, 0.67104, 0.4827, 0.04853, 0.06561, 0.73116, 0.28626, 0.31116, 0.00829, 0.61676, 0.80356, 0.60794, 0.89271, 0.05282, 0.64589, 0.51317, 0.50752, 0.67383, 0.76289, 0.02735]\n",
    "\n",
    "precision = []\n",
    "recall = []\n",
    "\n",
    "thresholds = [0.69, 0.33, 0.43, 0.16, 0.79, 0.62, 0.68, 0.43, 0.51, 0.7, 0.56, 0.39, 0.46, 0.74, 0.74, 0.42, 0.15, 0.36, 0.84, 0.9]\n",
    "\n",
    "for i in thresholds:\n",
    "    temp_prediction = [1 if x >= i else 0 for x in y_pred]\n",
    "    p = precision_score(y_true, temp_prediction)\n",
    "    r = recall_score(y_true, temp_prediction)\n",
    "    precision.append(p)\n",
    "    recall.append(r)\n",
    "\n",
    "print(\"Precision:\", precision)\n",
    "print(\"Recall:\", recall)\n"
   ]
  },
  {
   "cell_type": "code",
   "execution_count": 61,
   "metadata": {},
   "outputs": [],
   "source": [
    "import matplotlib.pyplot as plt"
   ]
  },
  {
   "cell_type": "code",
   "execution_count": 63,
   "metadata": {},
   "outputs": [
    {
     "data": {
      "text/plain": [
       "Text(0, 0.5, 'Precision')"
      ]
     },
     "execution_count": 63,
     "metadata": {},
     "output_type": "execute_result"
    },
    {
     "data": {
      "image/png": "[encoded data removed]",
      "text/plain": [
       "<Figure size 700x700 with 1 Axes>"
      ]
     },
     "metadata": {},
     "output_type": "display_data"
    }
   ],
   "source": [
    "plt.figure(figsize=(7,7))\n",
    "plt.plot(recall , precision)\n",
    "plt.xlabel('Recall',fontsize=15)\n",
    "plt.ylabel('Precision',fontsize=15)"
   ]
  },
  {
   "cell_type": "markdown",
   "metadata": {},
   "source": [
    "#### If the threshold is too high then we get SMALLER NUMBER OF TRUE POSITIVES and HIGH NUMBER OF FALSE POSITIVES.\n",
    "#### This DECREASES RECALL but PRECISION WILL BE HIGH.\n",
    "#### And if the threshold is too low then false positive will increase alot and precision will be less."
   ]
  },
  {
   "cell_type": "markdown",
   "metadata": {},
   "source": [
    "# F1 SCORE (Harmonic mean of P and R)"
   ]
  },
  {
   "cell_type": "markdown",
   "metadata": {},
   "source": [
    "##### F1 score is a metric that combines noth precision and recall using simple weighted average or (HARMONIC MEAN of p and r)\n",
    "##### F1 = 2 * PRECISION * RECALL / (PRECISION + RECALL)\n",
    "##### F1 = 2TP /  (2TP + FP + FN)"
   ]
  },
  {
   "cell_type": "code",
   "execution_count": 101,
   "metadata": {},
   "outputs": [],
   "source": [
    "def recall(y_true,y_pred):\n",
    "    tp = true_positive(y_true,y_pred)\n",
    "    fn = false_negative(y_true,y_pred)\n",
    "    recall = tp/(tp+fn)\n",
    "    return recall\n",
    "\n",
    "\n",
    "def precision(y_true,y_pred):\n",
    "    tp = true_positive(y_true,y_pred)\n",
    "    fp = false_positive(y_true,y_pred)\n",
    "    precision = tp/(tp+fp)\n",
    "    return precision"
   ]
  },
  {
   "cell_type": "code",
   "execution_count": 102,
   "metadata": {},
   "outputs": [
    {
     "name": "stdout",
     "output_type": "stream",
     "text": [
      "F1 Score: 0.5599999999999999\n"
     ]
    }
   ],
   "source": [
    "def f1(y_true, y_pred):\n",
    "    p = precision(y_true, y_pred)\n",
    "    r = recall(y_true, y_pred)\n",
    "    f1 = (2 * p * r) / (p + r)\n",
    "    return f1\n",
    "\n",
    "y_true = [0, 0, 1, 0, 1, 1, 0, 0, 1, 1, 1, 1, 1, 0, 1, 1, 1, 1, 0, 1]\n",
    "y_pred = [1, 1, 1, 0, 0, 1, 0, 1, 0, 1, 1, 1, 0, 1, 1, 1, 0, 0, 1, 0]\n",
    "\n",
    "f1_score = f1(y_true, y_pred)\n",
    "print(\"F1 Score:\", f1_score)"
   ]
  },
  {
   "cell_type": "code",
   "execution_count": 86,
   "metadata": {},
   "outputs": [
    {
     "data": {
      "text/plain": [
       "0.5599999999999999"
      ]
     },
     "execution_count": 86,
     "metadata": {},
     "output_type": "execute_result"
    }
   ],
   "source": [
    "metrics.f1_score(y_true,y_pred)"
   ]
  },
  {
   "cell_type": "markdown",
   "metadata": {},
   "source": [
    "#### INSTEAD OF LOOKING AT PRECISION AND RECALL SEPERATELY WE SHOULD LOOK AT F1 SCORE ESXPECIASLLY IF DATA IS SKEWED\n",
    "#### TRUE POSITIVE RATE IS SAME AS RECALL. TRP = TP/TP+FN"
   ]
  },
  {
   "cell_type": "code",
   "execution_count": 98,
   "metadata": {},
   "outputs": [],
   "source": [
    "def recall(y_true,y_pred):\n",
    "    tp = true_positive(y_true,y_pred)\n",
    "    fn = false_negative(y_true,y_pred)\n",
    "    recall = tp/(tp+fn)\n",
    "    return recall"
   ]
  },
  {
   "cell_type": "code",
   "execution_count": 99,
   "metadata": {},
   "outputs": [],
   "source": [
    "def tpr(y_true, y_pred):\n",
    "    tpr_score = recall(y_true, y_pred)\n",
    "    return tpr_score"
   ]
  },
  {
   "cell_type": "code",
   "execution_count": 100,
   "metadata": {},
   "outputs": [
    {
     "data": {
      "text/plain": [
       "0.6"
      ]
     },
     "execution_count": 100,
     "metadata": {},
     "output_type": "execute_result"
    }
   ],
   "source": [
    "tpr(l1,l2)"
   ]
  },
  {
   "cell_type": "markdown",
   "metadata": {},
   "source": [
    "# FALSE POSITIVE RATE - FPR = FP/(TN+FP)"
   ]
  },
  {
   "cell_type": "markdown",
   "metadata": {},
   "source": [
    "# 1 - FPR is known as SPECIFICITY or TRUE NEGATIVE RATE"
   ]
  },
  {
   "cell_type": "code",
   "execution_count": 105,
   "metadata": {},
   "outputs": [],
   "source": [
    "\n",
    "\n",
    "def true_negative(y_true , y_pred):\n",
    "    tn=0\n",
    "    for yt,yp in zip(y_true,y_pred):\n",
    "        if yt==0 and yp==0:\n",
    "            tn+=1\n",
    "    return tn\n",
    "\n",
    "\n",
    "def false_positive(y_true,y_pred):\n",
    "    fp = 0\n",
    "    for yt,yp in zip(y_true,y_pred):\n",
    "        if yt==0 and yp==1:\n",
    "            fp+=1\n",
    "    return fp"
   ]
  },
  {
   "cell_type": "code",
   "execution_count": 106,
   "metadata": {},
   "outputs": [],
   "source": [
    "def fpr(y_true,y_pred):\n",
    "    fp = false_positive(y_true,y_pred)\n",
    "    tn = true_negative(y_true,y_pred)\n",
    "    score = fp/(tn+fp)\n",
    "    return score"
   ]
  },
  {
   "cell_type": "code",
   "execution_count": 107,
   "metadata": {},
   "outputs": [
    {
     "data": {
      "text/plain": [
       "0.7142857142857143"
      ]
     },
     "execution_count": 107,
     "metadata": {},
     "output_type": "execute_result"
    }
   ],
   "source": [
    "fpr(y_true,y_pred)"
   ]
  },
  {
   "cell_type": "markdown",
   "metadata": {},
   "source": [
    "# AUC - ROC CURVE"
   ]
  },
  {
   "cell_type": "code",
   "execution_count": 115,
   "metadata": {},
   "outputs": [],
   "source": [
    "def recall(y_true,y_pred):\n",
    "    tp = true_positive(y_true,y_pred)\n",
    "    fn = false_negative(y_true,y_pred)\n",
    "    recall_score = tp/(tp+fn)\n",
    "    return recall_score\n",
    "\n",
    "def true_positive(y_true , y_pred):\n",
    "    tp=0\n",
    "    for yt,yp in zip(y_true,y_pred):\n",
    "        if yt==1 and yp==1:\n",
    "            tp+=1\n",
    "    return tp\n",
    "\n",
    "def false_negative(y_true,y_pred):\n",
    "    fn=0\n",
    "    for yt,yp in zip(y_true,y_pred):\n",
    "        if yt==1 and yp==0 :\n",
    "            fn+=1\n",
    "    return fn"
   ]
  },
  {
   "cell_type": "code",
   "execution_count": 116,
   "metadata": {},
   "outputs": [],
   "source": [
    "def fpr(y_true,y_pred):\n",
    "    fp = false_positive(y_true,y_pred)\n",
    "    tn = true_negative(y_true,y_pred)\n",
    "    score = fp/(tn+fp)\n",
    "    return score\n",
    "\n",
    "def tpr(y_true, y_pred):\n",
    "    tpr_score = recall(y_true, y_pred)\n",
    "    return tpr_score"
   ]
  },
  {
   "cell_type": "code",
   "execution_count": 119,
   "metadata": {},
   "outputs": [],
   "source": [
    "# Empty lists to store fpr and trp\n",
    "fpr_list = []\n",
    "tpr_list = []\n",
    "y_true = [0,0,0,0,1,0,1,0,0,1,0,1,0,0,1]\n",
    "y_pred = [0.1,0.3,0.2,0.6,0.8,0.05,0.9,0.5,0.3,0.66,0.3,0.2,0.85,0.15,0.99]\n",
    "thresholds = [0,0.1,0.2,0.3,0.4,0.5,0.6,0.7,0.8,0.85,0.9,0.99,1.0]\n",
    "\n",
    "for thresh in thresholds:\n",
    "    temp_pred=[1 if x>=thresh else 0 for x in y_pred]\n",
    "    temp_tpr = tpr(y_true,temp_pred)\n",
    "    temp_fpr = fpr(y_true,temp_pred)\n",
    "    tpr_list.append(temp_tpr)\n",
    "    fpr_list.append(temp_fpr)"
   ]
  },
  {
   "cell_type": "code",
   "execution_count": 121,
   "metadata": {},
   "outputs": [
    {
     "data": {
      "image/png": "[encoded data removed]",
      "text/plain": [
       "<Figure size 700x700 with 1 Axes>"
      ]
     },
     "metadata": {},
     "output_type": "display_data"
    }
   ],
   "source": [
    "plt.figure(figsize=(7,7))\n",
    "plt.fill_between(fpr_list,tpr_list,alpha=0.4)\n",
    "plt.plot(fpr_list,tpr_list,lw=3)\n",
    "plt.xlim(0,1.0)\n",
    "plt.ylim(0,1.0)\n",
    "plt.xlabel('FPR',fontsize=15)\n",
    "plt.ylabel('TPR',fontsize=15)\n",
    "plt.show()"
   ]
  },
  {
   "cell_type": "markdown",
   "metadata": {},
   "source": [
    "#### THIS CURVE IS KNOWN AS ROC-RECIEVER OPERATING CHARACTERISTIC\n",
    "#### IF WE CALCULATE THE AREA UNDER THIS ROC WE GET - AREA UNDER ROC CURVE or AREA UNDER CURVE or just simply AUC."
   ]
  },
  {
   "cell_type": "code",
   "execution_count": 123,
   "metadata": {},
   "outputs": [
    {
     "data": {
      "text/plain": [
       "0.8300000000000001"
      ]
     },
     "execution_count": 123,
     "metadata": {},
     "output_type": "execute_result"
    }
   ],
   "source": [
    "metrics.roc_auc_score(y_true,y_pred)"
   ]
  },
  {
   "cell_type": "code",
   "execution_count": null,
   "metadata": {},
   "outputs": [],
   "source": []
  }
 ],
 "metadata": {
  "kernelspec": {
   "display_name": "ml",
   "language": "python",
   "name": "python3"
  },
  "language_info": {
   "codemirror_mode": {
    "name": "ipython",
    "version": 3
   },
   "file_extension": ".py",
   "mimetype": "text/x-python",
   "name": "python",
   "nbconvert_exporter": "python",
   "pygments_lexer": "ipython3",
   "version": "3.9.10"
  },
  "orig_nbformat": 4
 },
 "nbformat": 4,
 "nbformat_minor": 2
}
